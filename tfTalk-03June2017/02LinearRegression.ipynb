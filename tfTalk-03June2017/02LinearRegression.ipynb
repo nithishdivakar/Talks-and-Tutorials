{
 "cells": [
  {
   "cell_type": "code",
   "execution_count": 2,
   "metadata": {
    "collapsed": true
   },
   "outputs": [],
   "source": [
    "# imports\n",
    "import numpy\n",
    "numpy.random.seed(1234)\n",
    "import tensorflow as tf\n",
    "tf.set_random_seed(1234)\n",
    "import matplotlib.pyplot as plt\n",
    "from IPython import display\n",
    "%matplotlib inline"
   ]
  },
  {
   "cell_type": "code",
   "execution_count": 3,
   "metadata": {
    "collapsed": true
   },
   "outputs": [],
   "source": [
    "# Parameters\n",
    "W = tf.Variable([0.5], tf.float32)\n",
    "b = tf.Variable([0.5], tf.float32)"
   ]
  },
  {
   "cell_type": "code",
   "execution_count": 4,
   "metadata": {
    "collapsed": true
   },
   "outputs": [],
   "source": [
    "# Model\n",
    "x = tf.placeholder(tf.float32)\n",
    "linear_model = W * x + b\n",
    "y = tf.placeholder(tf.float32)"
   ]
  },
  {
   "cell_type": "code",
   "execution_count": 5,
   "metadata": {
    "collapsed": true
   },
   "outputs": [],
   "source": [
    "# loss\n",
    "loss_ = tf.reduce_mean(tf.square(linear_model - y)) # sum of the squares"
   ]
  },
  {
   "cell_type": "code",
   "execution_count": 6,
   "metadata": {
    "collapsed": true
   },
   "outputs": [],
   "source": [
    "# optimizer\n",
    "optimizer = tf.train.GradientDescentOptimizer(1e-4)\n",
    "train_ = optimizer.minimize(loss_)"
   ]
  },
  {
   "cell_type": "code",
   "execution_count": 7,
   "metadata": {
    "collapsed": true
   },
   "outputs": [],
   "source": [
    "# Data\n",
    "mean = [3, 2]\n",
    "cov = [[3, 1], [40, 50]]\n",
    "x_train, y_train = numpy.random.multivariate_normal(mean, cov, 500).T"
   ]
  },
  {
   "cell_type": "code",
   "execution_count": 8,
   "metadata": {
    "collapsed": true
   },
   "outputs": [],
   "source": [
    "xmin = x_train.min()-5\n",
    "xmax = x_train.max()+5\n",
    "def plot(w,b):\n",
    "  axes = plt.gca()\n",
    "  axes.set_xlim([-20,30])\n",
    "  axes.set_ylim([-20,30])\n",
    "  plt.plot(x_train, y_train, 'b.')\n",
    "  plt.plot([xmin,xmax],[w*xmin+b,w*xmax+b],'r')\n",
    "  display.clear_output(wait=True)\n",
    "  display.display(plt.gcf())\n",
    "  plt.axis('equal')\n",
    "  #plt.show()"
   ]
  },
  {
   "cell_type": "code",
   "execution_count": null,
   "metadata": {},
   "outputs": [
    {
     "data": {
      "image/png": "[encoded data removed]",
      "text/plain": [
       "<matplotlib.figure.Figure at 0x7f0f0de72a50>"
      ]
     },
     "metadata": {},
     "output_type": "display_data"
    },
    {
     "name": "stdout",
     "output_type": "stream",
     "text": [
      "Step      0 MSE loss : 1.504755e+01\n"
     ]
    }
   ],
   "source": [
    "# Training\n",
    "init = tf.global_variables_initializer()\n",
    "sess = tf.Session()\n",
    "sess.run(init) \n",
    "for step in range(50000):\n",
    "  sess.run([train_], {x:x_train, y:y_train})\n",
    "  if step % 5000 == 0:\n",
    "    curr_W, curr_b, curr_loss  = sess.run(\n",
    "                                   [W, b, loss_],\n",
    "                                   {x:x_train, y:y_train}\n",
    "                                 )\n",
    "    plot(curr_W,curr_b)\n",
    "    print \"Step {:6d} MSE loss : {:e}\".format(step,curr_loss)"
   ]
  },
  {
   "cell_type": "code",
   "execution_count": null,
   "metadata": {
    "collapsed": true
   },
   "outputs": [],
   "source": []
  }
 ],
 "metadata": {
  "kernelspec": {
   "display_name": "Python 2",
   "language": "python",
   "name": "python2"
  },
  "language_info": {
   "codemirror_mode": {
    "name": "ipython",
    "version": 2
   },
   "file_extension": ".py",
   "mimetype": "text/x-python",
   "name": "python",
   "nbconvert_exporter": "python",
   "pygments_lexer": "ipython2",
   "version": "2.7.10"
  }
 },
 "nbformat": 4,
 "nbformat_minor": 2
}
