{
 "cells": [
  {
   "cell_type": "code",
   "execution_count": 101,
   "metadata": {},
   "outputs": [],
   "source": [
    "# imports\n",
    "import numpy\n",
    "numpy.random.seed(1234)\n",
    "import tensorflow as tf\n",
    "tf.set_random_seed(1234)\n",
    "import matplotlib.pyplot as plt\n",
    "from IPython import display\n",
    "%matplotlib inline"
   ]
  },
  {
   "cell_type": "code",
   "execution_count": 102,
   "metadata": {},
   "outputs": [],
   "source": [
    "# Parameters\n",
    "W = tf.Variable([[0.5], [0.5]], tf.float32)\n",
    "b = tf.Variable([0.1], tf.float32)"
   ]
  },
  {
   "cell_type": "code",
   "execution_count": 103,
   "metadata": {},
   "outputs": [],
   "source": [
    "# Model\n",
    "x_    = tf.placeholder(tf.float32,[None,2])\n",
    "logit_= tf.matmul(x_,W) + b\n",
    "yhat_ = tf.nn.sigmoid(logit_)\n",
    "y_    = tf.placeholder(tf.float32)"
   ]
  },
  {
   "cell_type": "code",
   "execution_count": 104,
   "metadata": {},
   "outputs": [],
   "source": [
    "# loss\n",
    "def cross_entropy(y,z):\n",
    "  t    =  - z * tf.log(y) - (1-z) * tf.log(1-y)\n",
    "  loss = tf.reduce_mean(t)\n",
    "  return loss\n",
    "#loss_ = cross_entropy(y_,yhat_) # sum of the squares\n",
    "loss_ = tf.reduce_mean(tf.nn.sigmoid_cross_entropy_with_logits(labels=y_, logits=logit_))\n",
    "#loss_ = tf.reduce_mean(tf.square(yhat_ - y))"
   ]
  },
  {
   "cell_type": "code",
   "execution_count": 105,
   "metadata": {},
   "outputs": [],
   "source": [
    "# optimizer\n",
    "optimizer = tf.train.GradientDescentOptimizer(1e-4)\n",
    "#optimizer = tf.train.AdamOptimizer(1e-5)\n",
    "train_    = optimizer.minimize(loss_)"
   ]
  },
  {
   "cell_type": "code",
   "execution_count": 106,
   "metadata": {},
   "outputs": [],
   "source": [
    "# Data\n",
    "samples_per_class = 100\n",
    "\n",
    "mean1 = [2, 4]\n",
    "cov1 = [[1, 0], [0, 1]]\n",
    "mean2 = [8, 4]\n",
    "cov2 = [[1, 0], [0, 1]]\n",
    "Class1 = numpy.random.multivariate_normal(mean1, cov1, samples_per_class)\n",
    "\n",
    "Class2 = numpy.random.multivariate_normal(mean2, cov2, samples_per_class)\n",
    "\n",
    "Y1 = numpy.zeros([samples_per_class])\n",
    "Y2 = numpy.ones([samples_per_class])\n",
    "\n",
    "\n",
    "DATA_X = numpy.concatenate([Class1, Class2] ,axis = 0)\n",
    "DATA_Y = numpy.concatenate([Y1, Y2] ,axis = 0)"
   ]
  },
  {
   "cell_type": "code",
   "execution_count": null,
   "metadata": {},
   "outputs": [],
   "source": [
    "\n",
    "\n"
   ]
  },
  {
   "cell_type": "code",
   "execution_count": 107,
   "metadata": {},
   "outputs": [],
   "source": [
    "xmin = [0,0]\n",
    "xmax = [10,10]\n",
    "def plot(prob):\n",
    "  axes = plt.gca()\n",
    "  axes.set_xlim([0,10])\n",
    "  axes.set_ylim([0,10])\n",
    "  plt.plot(DATA_X[prob> 0.5,0], DATA_X[prob> 0.5,1], 'b.')\n",
    "  plt.plot(DATA_X[prob<=0.5,0], DATA_X[prob<=0.5,1], 'r.')\n",
    "  display.clear_output(wait=True)\n",
    "  display.display(plt.gcf())\n",
    "  #plt.show()"
   ]
  },
  {
   "cell_type": "code",
   "execution_count": 108,
   "metadata": {},
   "outputs": [
    {
     "data": {
      "image/png": "[encoded data removed]",
      "text/plain": [
       "<matplotlib.figure.Figure at 0x117e320d0>"
      ]
     },
     "metadata": {},
     "output_type": "display_data"
    },
    {
     "data": {
      "image/png": "[encoded data removed]",
      "text/plain": [
       "<matplotlib.figure.Figure at 0x117e320d0>"
      ]
     },
     "metadata": {},
     "output_type": "display_data"
    }
   ],
   "source": [
    "plot(DATA_Y)"
   ]
  },
  {
   "cell_type": "code",
   "execution_count": null,
   "metadata": {
    "collapsed": true
   },
   "outputs": [],
   "source": []
  },
  {
   "cell_type": "code",
   "execution_count": 112,
   "metadata": {
    "scrolled": false
   },
   "outputs": [
    {
     "name": "stdout",
     "output_type": "stream",
     "text": [
      "[ 0.9392907   0.97487426  0.96015078  0.96121359  0.87927878  0.98477095\n",
      "  0.92856616  0.94944394  0.96910584  0.95192754  0.93520623  0.96987951\n",
      "  0.9713316   0.92609036  0.97170758  0.95557559  0.98440349  0.96980178\n",
      "  0.95255965  0.99111396  0.94550729  0.88891017  0.94126093  0.95432562\n",
      "  0.97298038  0.94247848  0.91274446  0.94005007  0.96295452  0.98454052\n",
      "  0.92934406  0.95884514  0.91800624  0.97186995  0.97226149  0.94965076\n",
      "  0.97616053  0.97440267  0.93314308  0.96875852  0.82486886  0.97885954\n",
      "  0.95101184  0.98155701  0.98073041  0.94972593  0.90827686  0.96969956\n",
      "  0.96047276  0.90958852  0.97145677  0.97048664  0.98240167  0.92232847\n",
      "  0.95565343  0.93590665  0.96259606  0.94812852  0.92621452  0.96509379\n",
      "  0.93497813  0.95145333  0.92015028  0.93759644  0.97779     0.96422213\n",
      "  0.98848993  0.94967002  0.95352876  0.94461203  0.96468097  0.95368123\n",
      "  0.96846861  0.98093915  0.98551846  0.97690523  0.94445747  0.96691352\n",
      "  0.86654216  0.94388425  0.95235556  0.92278081  0.94169652  0.97086167\n",
      "  0.98318577  0.94198054  0.88190019  0.95508498  0.98553014  0.95712107\n",
      "  0.79442233  0.96349108  0.95302653  0.90073419  0.89834005  0.94819152\n",
      "  0.87151057  0.96877754  0.96960384  0.93803608  0.99641573  0.99724078\n",
      "  0.99803466  0.99718767  0.99941659  0.99771821  0.99953473  0.99934763\n",
      "  0.99783677  0.99872249  0.9990139   0.99882799  0.99435544  0.99715626\n",
      "  0.99886912  0.99818015  0.99648982  0.9963097   0.99957758  0.99868268\n",
      "  0.99799383  0.99753451  0.99747306  0.99897647  0.99699473  0.99791902\n",
      "  0.99575329  0.9957847   0.99741346  0.9957273   0.9990558   0.99875414\n",
      "  0.99887031  0.99927253  0.99764341  0.99691761  0.99622935  0.99874252\n",
      "  0.99831736  0.9978416   0.99654657  0.99656147  0.99749398  0.99827075\n",
      "  0.99717855  0.99877232  0.99813724  0.99887007  0.99724066  0.99429852\n",
      "  0.99879009  0.99932957  0.99439985  0.99918264  0.99506652  0.9974528\n",
      "  0.99873847  0.99737692  0.998541    0.99462527  0.99915266  0.99852931\n",
      "  0.99602181  0.99919921  0.99810272  0.99821258  0.99779022  0.99786097\n",
      "  0.99886179  0.9983077   0.99851686  0.99817157  0.99607927  0.9972192\n",
      "  0.99704021  0.9986847   0.99662566  0.99553865  0.99947733  0.99896622\n",
      "  0.99920601  0.99790996  0.99967444  0.99250787  0.99716008  0.99710745\n",
      "  0.99586689  0.99173224  0.99823308  0.99761021  0.99892128  0.99894732\n",
      "  0.9973895   0.99680746  0.9949286   0.99703884  0.99853981  0.99617106\n",
      "  0.996369    0.99903631]\n",
      "Step      0 MSE loss : 2.356978e+00\n",
      "[ 0.93208224  0.97062433  0.95489115  0.9556374   0.86956066  0.98185217\n",
      "  0.92046237  0.94323695  0.9644109   0.94538808  0.92800146  0.96530783\n",
      "  0.96669155  0.91796315  0.96739912  0.94985539  0.98144376  0.96508503\n",
      "  0.94644427  0.98919851  0.93887734  0.87947053  0.93427181  0.94842947\n",
      "  0.96863234  0.93535566  0.90499115  0.93328059  0.95766878  0.98165303\n",
      "  0.9221341   0.95319986  0.9092502   0.96715343  0.96793628  0.94360512\n",
      "  0.97218633  0.97050953  0.9256351   0.96398026  0.81381142  0.97512066\n",
      "  0.94476277  0.97824383  0.9773767   0.94340539  0.90015262  0.96498156\n",
      "  0.95514208  0.90153664  0.96703053  0.96591562  0.97923511  0.91468012\n",
      "  0.94946826  0.92830974  0.95747662  0.94178289  0.91809213  0.96008241\n",
      "  0.92777824  0.94550467  0.91284585  0.93064791  0.97401243  0.95908302\n",
      "  0.98615521  0.94316316  0.94815499  0.93855661  0.95945358  0.94748074\n",
      "  0.96354407  0.97755438  0.98283839  0.97305262  0.93794787  0.96178466\n",
      "  0.85809439  0.93748349  0.94609648  0.9149363   0.93514681  0.96630579\n",
      "  0.98006767  0.93515921  0.87290168  0.94916862  0.98262018  0.95180786\n",
      "  0.78591275  0.95825332  0.94659668  0.89243817  0.88950109  0.9417128\n",
      "  0.86266428  0.96390122  0.96507663  0.93081468  0.99535072  0.99637383\n",
      "  0.99736881  0.99632215  0.99917728  0.99697268  0.99934179  0.99908662\n",
      "  0.9971199   0.99826753  0.99865532  0.99840575  0.99278378  0.99627966\n",
      "  0.99845278  0.9975701   0.99543875  0.99524552  0.99940181  0.99821609\n",
      "  0.99733788  0.99673188  0.99669904  0.99859375  0.99608827  0.99720639\n",
      "  0.99456388  0.99455619  0.99661285  0.99450183  0.99869603  0.99831021\n",
      "  0.9984622   0.99899238  0.99689627  0.99596989  0.99511874  0.99829644\n",
      "  0.99774796  0.99713302  0.99551857  0.99558842  0.99669623  0.99770594\n",
      "  0.99630678  0.99833328  0.9975273   0.99846423  0.99637836  0.99279189\n",
      "  0.99835497  0.99907172  0.99292302  0.99886572  0.99366152  0.99663949\n",
      "  0.99829119  0.99654996  0.99802577  0.99315518  0.99882871  0.99801314\n",
      "  0.99487585  0.9988845   0.99746096  0.99761093  0.99707246  0.99716681\n",
      "  0.99844068  0.99773395  0.99800235  0.99755234  0.99495512  0.99636877\n",
      "  0.99611461  0.99822766  0.99561381  0.9942978   0.99926478  0.99857938\n",
      "  0.9988997   0.99722052  0.999529    0.99060726  0.99626178  0.99622321\n",
      "  0.99470454  0.98965949  0.99761426  0.99683434  0.99851745  0.9985494\n",
      "  0.99656123  0.99580586  0.99352771  0.99611366  0.9980312   0.99507022\n",
      "  0.99528164  0.99868435]\n",
      "Step    100 MSE loss : 2.256070e+00\n",
      "[ 0.9241311   0.96570843  0.94901174  0.94933724  0.85924006  0.97840685\n",
      "  0.91157275  0.9363609   0.95906436  0.93805569  0.92011052  0.96010244\n",
      "  0.96136034  0.90907699  0.96249062  0.94348168  0.97795588  0.95969337\n",
      "  0.93963063  0.98689032  0.93154198  0.8694005   0.92655975  0.94185829\n",
      "  0.96363991  0.92746127  0.89668143  0.92585254  0.95170188  0.97825897\n",
      "  0.91430604  0.94686037  0.89970922  0.96170616  0.96299225  0.93692428\n",
      "  0.96759909  0.96607465  0.91740489  0.95853406  0.80227506  0.97076529\n",
      "  0.93780923  0.97437435  0.97347915  0.93638468  0.89144933  0.95959085\n",
      "  0.94916779  0.89290655  0.96197528  0.9606964   0.97553581  0.90640599\n",
      "  0.94250983  0.91993374  0.95172781  0.93475664  0.90921032  0.95441997\n",
      "  0.91989601  0.93891549  0.90499562  0.92303568  0.96963835  0.95327628\n",
      "  0.98337203  0.93591219  0.94224     0.93193275  0.95352376  0.94054091\n",
      "  0.95791531  0.97360861  0.97969306  0.96860504  0.93077534  0.95592916\n",
      "  0.84926772  0.93045127  0.93910742  0.90642565  0.92796308  0.96109676\n",
      "  0.97640717  0.92764157  0.86338145  0.94255865  0.97915685  0.94591349\n",
      "  0.77721173  0.95233613  0.93938094  0.88359451  0.8800506   0.93452132\n",
      "  0.8533715   0.95832777  0.95993501  0.92286575  0.99397862  0.995242\n",
      "  0.99648273  0.99519747  0.99884206  0.99598974  0.99907047  0.99872333\n",
      "  0.99617141  0.99765438  0.9981693   0.99783474  0.99078852  0.99514008\n",
      "  0.99788648  0.99676079  0.99408191  0.99388367  0.99915457  0.99758828\n",
      "  0.9964729   0.99567431  0.99569464  0.99807125  0.99491632  0.99625552\n",
      "  0.99305177  0.99298018  0.9955712   0.9929356   0.99820209  0.99771166\n",
      "  0.99790984  0.99860686  0.99591845  0.99473876  0.99369037  0.99769574\n",
      "  0.99699044  0.99619764  0.99419361  0.99434882  0.9956513   0.99696153\n",
      "  0.99517316  0.99774063  0.99672264  0.99791616  0.9952538   0.99090075\n",
      "  0.99776685  0.99871719  0.99107027  0.99842846  0.99186862  0.99557328\n",
      "  0.99768913  0.99546909  0.99733269  0.99129617  0.99838364  0.99731988\n",
      "  0.99340993  0.99844861  0.99660742  0.99681169  0.99612767  0.99625313\n",
      "  0.99786711  0.99697053  0.99731356  0.9967283   0.99351853  0.9952656\n",
      "  0.99490732  0.99761569  0.99430734  0.99272257  0.99896777  0.99805093\n",
      "  0.99847776  0.99630946  0.99931991  0.98824233  0.99508697  0.99507636\n",
      "  0.99322551  0.98708677  0.99678338  0.99581283  0.99796569  0.99800426\n",
      "  0.99547714  0.99449867  0.99175221  0.99490708  0.99734974  0.99366236\n",
      "  0.99387795  0.99820685]\n",
      "Step    200 MSE loss : 2.156104e+00\n"
     ]
    },
    {
     "ename": "KeyboardInterrupt",
     "evalue": "",
     "output_type": "error",
     "traceback": [
      "\u001b[0;31m---------------------------------------------------------------------------\u001b[0m",
      "\u001b[0;31mKeyboardInterrupt\u001b[0m                         Traceback (most recent call last)",
      "\u001b[0;32m<ipython-input-112-23c5cf1a5a17>\u001b[0m in \u001b[0;36m<module>\u001b[0;34m()\u001b[0m\n\u001b[1;32m      4\u001b[0m \u001b[0msess\u001b[0m\u001b[0;34m.\u001b[0m\u001b[0mrun\u001b[0m\u001b[0;34m(\u001b[0m\u001b[0minit\u001b[0m\u001b[0;34m)\u001b[0m\u001b[0;34m\u001b[0m\u001b[0m\n\u001b[1;32m      5\u001b[0m \u001b[0;32mfor\u001b[0m \u001b[0mstep\u001b[0m \u001b[0;32min\u001b[0m \u001b[0mrange\u001b[0m\u001b[0;34m(\u001b[0m\u001b[0;36m50000\u001b[0m\u001b[0;34m)\u001b[0m\u001b[0;34m:\u001b[0m\u001b[0;34m\u001b[0m\u001b[0m\n\u001b[0;32m----> 6\u001b[0;31m   \u001b[0msess\u001b[0m\u001b[0;34m.\u001b[0m\u001b[0mrun\u001b[0m\u001b[0;34m(\u001b[0m\u001b[0;34m[\u001b[0m\u001b[0mtrain_\u001b[0m\u001b[0;34m]\u001b[0m\u001b[0;34m,\u001b[0m \u001b[0;34m{\u001b[0m\u001b[0mx_\u001b[0m\u001b[0;34m:\u001b[0m\u001b[0mDATA_X\u001b[0m\u001b[0;34m,\u001b[0m \u001b[0my_\u001b[0m\u001b[0;34m:\u001b[0m\u001b[0mDATA_Y\u001b[0m\u001b[0;34m}\u001b[0m\u001b[0;34m)\u001b[0m\u001b[0;34m\u001b[0m\u001b[0m\n\u001b[0m\u001b[1;32m      7\u001b[0m   \u001b[0;32mif\u001b[0m \u001b[0mstep\u001b[0m \u001b[0;34m%\u001b[0m \u001b[0;36m100\u001b[0m \u001b[0;34m==\u001b[0m \u001b[0;36m0\u001b[0m\u001b[0;34m:\u001b[0m\u001b[0;34m\u001b[0m\u001b[0m\n\u001b[1;32m      8\u001b[0m     prob, curr_loss  = sess.run(\n",
      "\u001b[0;32m/Users/Deva/GitRepos/Talks-and-Tutorials/tfTalk-03June2017/env/lib/python2.7/site-packages/tensorflow/python/client/session.pyc\u001b[0m in \u001b[0;36mrun\u001b[0;34m(self, fetches, feed_dict, options, run_metadata)\u001b[0m\n\u001b[1;32m    776\u001b[0m     \u001b[0;32mtry\u001b[0m\u001b[0;34m:\u001b[0m\u001b[0;34m\u001b[0m\u001b[0m\n\u001b[1;32m    777\u001b[0m       result = self._run(None, fetches, feed_dict, options_ptr,\n\u001b[0;32m--> 778\u001b[0;31m                          run_metadata_ptr)\n\u001b[0m\u001b[1;32m    779\u001b[0m       \u001b[0;32mif\u001b[0m \u001b[0mrun_metadata\u001b[0m\u001b[0;34m:\u001b[0m\u001b[0;34m\u001b[0m\u001b[0m\n\u001b[1;32m    780\u001b[0m         \u001b[0mproto_data\u001b[0m \u001b[0;34m=\u001b[0m \u001b[0mtf_session\u001b[0m\u001b[0;34m.\u001b[0m\u001b[0mTF_GetBuffer\u001b[0m\u001b[0;34m(\u001b[0m\u001b[0mrun_metadata_ptr\u001b[0m\u001b[0;34m)\u001b[0m\u001b[0;34m\u001b[0m\u001b[0m\n",
      "\u001b[0;32m/Users/Deva/GitRepos/Talks-and-Tutorials/tfTalk-03June2017/env/lib/python2.7/site-packages/tensorflow/python/client/session.pyc\u001b[0m in \u001b[0;36m_run\u001b[0;34m(self, handle, fetches, feed_dict, options, run_metadata)\u001b[0m\n\u001b[1;32m    980\u001b[0m     \u001b[0;32mif\u001b[0m \u001b[0mfinal_fetches\u001b[0m \u001b[0;32mor\u001b[0m \u001b[0mfinal_targets\u001b[0m\u001b[0;34m:\u001b[0m\u001b[0;34m\u001b[0m\u001b[0m\n\u001b[1;32m    981\u001b[0m       results = self._do_run(handle, final_targets, final_fetches,\n\u001b[0;32m--> 982\u001b[0;31m                              feed_dict_string, options, run_metadata)\n\u001b[0m\u001b[1;32m    983\u001b[0m     \u001b[0;32melse\u001b[0m\u001b[0;34m:\u001b[0m\u001b[0;34m\u001b[0m\u001b[0m\n\u001b[1;32m    984\u001b[0m       \u001b[0mresults\u001b[0m \u001b[0;34m=\u001b[0m \u001b[0;34m[\u001b[0m\u001b[0;34m]\u001b[0m\u001b[0;34m\u001b[0m\u001b[0m\n",
      "\u001b[0;32m/Users/Deva/GitRepos/Talks-and-Tutorials/tfTalk-03June2017/env/lib/python2.7/site-packages/tensorflow/python/client/session.pyc\u001b[0m in \u001b[0;36m_do_run\u001b[0;34m(self, handle, target_list, fetch_list, feed_dict, options, run_metadata)\u001b[0m\n\u001b[1;32m   1030\u001b[0m     \u001b[0;32mif\u001b[0m \u001b[0mhandle\u001b[0m \u001b[0;32mis\u001b[0m \u001b[0mNone\u001b[0m\u001b[0;34m:\u001b[0m\u001b[0;34m\u001b[0m\u001b[0m\n\u001b[1;32m   1031\u001b[0m       return self._do_call(_run_fn, self._session, feed_dict, fetch_list,\n\u001b[0;32m-> 1032\u001b[0;31m                            target_list, options, run_metadata)\n\u001b[0m\u001b[1;32m   1033\u001b[0m     \u001b[0;32melse\u001b[0m\u001b[0;34m:\u001b[0m\u001b[0;34m\u001b[0m\u001b[0m\n\u001b[1;32m   1034\u001b[0m       return self._do_call(_prun_fn, self._session, handle, feed_dict,\n",
      "\u001b[0;32m/Users/Deva/GitRepos/Talks-and-Tutorials/tfTalk-03June2017/env/lib/python2.7/site-packages/tensorflow/python/client/session.pyc\u001b[0m in \u001b[0;36m_do_call\u001b[0;34m(self, fn, *args)\u001b[0m\n\u001b[1;32m   1037\u001b[0m   \u001b[0;32mdef\u001b[0m \u001b[0m_do_call\u001b[0m\u001b[0;34m(\u001b[0m\u001b[0mself\u001b[0m\u001b[0;34m,\u001b[0m \u001b[0mfn\u001b[0m\u001b[0;34m,\u001b[0m \u001b[0;34m*\u001b[0m\u001b[0margs\u001b[0m\u001b[0;34m)\u001b[0m\u001b[0;34m:\u001b[0m\u001b[0;34m\u001b[0m\u001b[0m\n\u001b[1;32m   1038\u001b[0m     \u001b[0;32mtry\u001b[0m\u001b[0;34m:\u001b[0m\u001b[0;34m\u001b[0m\u001b[0m\n\u001b[0;32m-> 1039\u001b[0;31m       \u001b[0;32mreturn\u001b[0m \u001b[0mfn\u001b[0m\u001b[0;34m(\u001b[0m\u001b[0;34m*\u001b[0m\u001b[0margs\u001b[0m\u001b[0;34m)\u001b[0m\u001b[0;34m\u001b[0m\u001b[0m\n\u001b[0m\u001b[1;32m   1040\u001b[0m     \u001b[0;32mexcept\u001b[0m \u001b[0merrors\u001b[0m\u001b[0;34m.\u001b[0m\u001b[0mOpError\u001b[0m \u001b[0;32mas\u001b[0m \u001b[0me\u001b[0m\u001b[0;34m:\u001b[0m\u001b[0;34m\u001b[0m\u001b[0m\n\u001b[1;32m   1041\u001b[0m       \u001b[0mmessage\u001b[0m \u001b[0;34m=\u001b[0m \u001b[0mcompat\u001b[0m\u001b[0;34m.\u001b[0m\u001b[0mas_text\u001b[0m\u001b[0;34m(\u001b[0m\u001b[0me\u001b[0m\u001b[0;34m.\u001b[0m\u001b[0mmessage\u001b[0m\u001b[0;34m)\u001b[0m\u001b[0;34m\u001b[0m\u001b[0m\n",
      "\u001b[0;32m/Users/Deva/GitRepos/Talks-and-Tutorials/tfTalk-03June2017/env/lib/python2.7/site-packages/tensorflow/python/client/session.pyc\u001b[0m in \u001b[0;36m_run_fn\u001b[0;34m(session, feed_dict, fetch_list, target_list, options, run_metadata)\u001b[0m\n\u001b[1;32m   1019\u001b[0m         return tf_session.TF_Run(session, options,\n\u001b[1;32m   1020\u001b[0m                                  \u001b[0mfeed_dict\u001b[0m\u001b[0;34m,\u001b[0m \u001b[0mfetch_list\u001b[0m\u001b[0;34m,\u001b[0m \u001b[0mtarget_list\u001b[0m\u001b[0;34m,\u001b[0m\u001b[0;34m\u001b[0m\u001b[0m\n\u001b[0;32m-> 1021\u001b[0;31m                                  status, run_metadata)\n\u001b[0m\u001b[1;32m   1022\u001b[0m \u001b[0;34m\u001b[0m\u001b[0m\n\u001b[1;32m   1023\u001b[0m     \u001b[0;32mdef\u001b[0m \u001b[0m_prun_fn\u001b[0m\u001b[0;34m(\u001b[0m\u001b[0msession\u001b[0m\u001b[0;34m,\u001b[0m \u001b[0mhandle\u001b[0m\u001b[0;34m,\u001b[0m \u001b[0mfeed_dict\u001b[0m\u001b[0;34m,\u001b[0m \u001b[0mfetch_list\u001b[0m\u001b[0;34m)\u001b[0m\u001b[0;34m:\u001b[0m\u001b[0;34m\u001b[0m\u001b[0m\n",
      "\u001b[0;31mKeyboardInterrupt\u001b[0m: "
     ]
    }
   ],
   "source": [
    "# Training\n",
    "init = tf.global_variables_initializer()\n",
    "sess = tf.Session()\n",
    "sess.run(init) \n",
    "for step in range(50000):\n",
    "  sess.run([train_], {x_:DATA_X, y_:DATA_Y})\n",
    "  if step % 100 == 0:\n",
    "    prob, curr_loss  = sess.run(\n",
    "                                   [yhat_, loss_],\n",
    "                                   {x_:DATA_X, y_:DATA_Y}\n",
    "                                 )\n",
    "    print prob[:,0]\n",
    "    #plot(prob[:,0])\n",
    "    print \"Step {:6d} MSE loss : {:e}\".format(step,curr_loss)"
   ]
  },
  {
   "cell_type": "code",
   "execution_count": null,
   "metadata": {
    "collapsed": true
   },
   "outputs": [],
   "source": []
  }
 ],
 "metadata": {
  "kernelspec": {
   "display_name": "Python 2",
   "language": "python",
   "name": "python2"
  },
  "language_info": {
   "codemirror_mode": {
    "name": "ipython",
    "version": 2
   },
   "file_extension": ".py",
   "mimetype": "text/x-python",
   "name": "python",
   "nbconvert_exporter": "python",
   "pygments_lexer": "ipython2",
   "version": "2.7.10"
  }
 },
 "nbformat": 4,
 "nbformat_minor": 2
}
