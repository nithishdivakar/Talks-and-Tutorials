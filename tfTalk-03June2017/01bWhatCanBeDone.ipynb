{
 "cells": [
  {
   "cell_type": "code",
   "execution_count": null,
   "metadata": {
    "collapsed": true
   },
   "outputs": [],
   "source": [
    "# imports\n",
    "import numpy\n",
    "numpy.random.seed(1234)\n",
    "import tensorflow as tf\n",
    "tf.set_random_seed(1234)\n",
    "import matplotlib.pyplot as plt\n",
    "from IPython import display\n",
    "%matplotlib inline"
   ]
  },
  {
   "cell_type": "code",
   "execution_count": null,
   "metadata": {
    "collapsed": true
   },
   "outputs": [],
   "source": [
    "# Parameters\n",
    "x_ = tf.Variable([18.0], tf.float32)\n",
    "C  = tf.placeholder(tf.float32,[])"
   ]
  },
  {
   "cell_type": "code",
   "execution_count": null,
   "metadata": {
    "collapsed": true
   },
   "outputs": [],
   "source": [
    "a = 20.0\n",
    "b = 15.0\n",
    "l_ = tf.square(x_-a)+ C*(x_ - b)\n",
    "train_ = tf.train.GradientDescentOptimizer(0.1).minimize(l_)"
   ]
  },
  {
   "cell_type": "code",
   "execution_count": null,
   "metadata": {
    "collapsed": true
   },
   "outputs": [],
   "source": [
    "init = tf.global_variables_initializer()\n",
    "L = {}\n",
    "X = {}\n",
    "CC = list(numpy.linspace(0.001,10.0,15))\n",
    "for c in CC:\n",
    "  L[c] = []\n",
    "  X[c] = []"
   ]
  },
  {
   "cell_type": "code",
   "execution_count": null,
   "metadata": {},
   "outputs": [],
   "source": [
    "with tf.Session() as sess:\n",
    "  for c in CC:\n",
    "    sess.run(init)\n",
    "    for step in range(21):\n",
    "      _,l,x = sess.run([train_,l_,x_],feed_dict={C:c})\n",
    "      L[c].append(l[0])\n",
    "      X[c].append(x[0])\n",
    "      #if not step % 4:\n",
    "      #  print \"step : {:2d} loss: {:e} x : {:4.2f}\".format(step+1,l[0],x[0])"
   ]
  },
  {
   "cell_type": "code",
   "execution_count": null,
   "metadata": {},
   "outputs": [],
   "source": [
    "plt.plot([0,20],[a,a],'--')\n",
    "plt.plot([0,20],[b,b],'--')\n",
    "for c in CC:\n",
    "  #plt.plot(L[c],'-b')\n",
    "  plt.plot(X[c], label=str(c))\n",
    "plt.legend(loc=\"center left\",bbox_to_anchor=(1, 0.5))"
   ]
  },
  {
   "cell_type": "code",
   "execution_count": null,
   "metadata": {
    "collapsed": true
   },
   "outputs": [],
   "source": []
  }
 ],
 "metadata": {
  "kernelspec": {
   "display_name": "Python 2",
   "language": "python",
   "name": "python2"
  },
  "language_info": {
   "codemirror_mode": {
    "name": "ipython",
    "version": 2
   },
   "file_extension": ".py",
   "mimetype": "text/x-python",
   "name": "python",
   "nbconvert_exporter": "python",
   "pygments_lexer": "ipython2",
   "version": "2.7.13"
  }
 },
 "nbformat": 4,
 "nbformat_minor": 2
}
